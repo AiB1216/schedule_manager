from fastapi import FastAPI, Request, Form
from fastapi.responses import HTMLResponse, RedirectResponse
from fastapi.staticfiles import StaticFiles
from fastapi.templating import Jinja2Templates
import uvicorn
import os

app = FastAPI()

# Mount static directory for serving HTML
app.mount("/static", StaticFiles(directory="static"), name="static")

# Set up Jinja2 templates (can use for dynamic HTML rendering)
templates = Jinja2Templates(directory=".")

# In-memory task list for demo purposes
tasks = []

@app.get("/", response_class=HTMLResponse)
async def read_html(request: Request):
    """
    Serve the HTML file for the task manager.
    Expects a file named 'index.html' in the same directory.
    """
    return templates.TemplateResponse("index.html", {"request": request, "tasks": tasks})

@app.post("/add_task", response_class=RedirectResponse)
async def add_task(task: str = Form(...)):
    """
    Endpoint to handle assignment of a new task from the HTML form.
    """
    tasks.append(task)
    return RedirectResponse(url="/", status_code=303)

@app.post("/delete_task", response_class=RedirectResponse)
async def delete_task(task_index: int = Form(...)):
    """
    Endpoint to delete a task by index.
    """
    if 0 <= task_index < len(tasks):
        del tasks[task_index]
    return RedirectResponse(url="/", status_code=303)

if __name__ == "__main__":
    # Run the FastAPI app using uvicorn
    uvicorn.run("main:app", host="0.0.0.0", port=8000, reload=True)
